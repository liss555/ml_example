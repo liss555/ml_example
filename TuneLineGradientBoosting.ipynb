{
 "cells": [
  {
   "cell_type": "markdown",
   "id": "3bdb34b1",
   "metadata": {},
   "source": [
    "# Подбор параметров для learning_rate для XGBoost"
   ]
  },
  {
   "cell_type": "markdown",
   "id": "9b2c3da7",
   "metadata": {},
   "source": [
    "Используется датасет Otto Group Product Classification Challenge.\n",
    "https://www.kaggle.com/c/otto-group-product-classification-challenge/data?select=train.csv"
   ]
  },
  {
   "cell_type": "markdown",
   "id": "1fefb082",
   "metadata": {},
   "source": [
    "### Подбор Learning Rate в XGBoost"
   ]
  },
  {
   "cell_type": "code",
   "execution_count": 11,
   "id": "e21e4793",
   "metadata": {
    "ExecuteTime": {
     "end_time": "2021-09-07T14:54:45.211899Z",
     "start_time": "2021-09-07T14:54:45.191899Z"
    }
   },
   "outputs": [],
   "source": [
    "from pandas import read_csv\n",
    "from xgboost import XGBClassifier\n",
    "from sklearn.model_selection import GridSearchCV\n",
    "from sklearn.model_selection import StratifiedKFold\n",
    "from sklearn.preprocessing import LabelEncoder\n",
    "import numpy\n",
    "import matplotlib\n",
    "from matplotlib import pyplot\n",
    "%matplotlib inline\n"
   ]
  },
  {
   "cell_type": "code",
   "execution_count": 3,
   "id": "150cb3e3",
   "metadata": {
    "ExecuteTime": {
     "end_time": "2021-09-07T14:36:35.579526Z",
     "start_time": "2021-09-07T14:36:35.249589Z"
    }
   },
   "outputs": [],
   "source": [
    "# Загрузка и разбиение \n",
    "data = read_csv('train.csv')\n",
    "dataset = data.values\n",
    "# split data into X and y\n",
    "X = dataset[:,0:94]\n",
    "y = dataset[:,94]\n",
    "# encode string class values as integers\n",
    "label_encoded_y = LabelEncoder().fit_transform(y)"
   ]
  },
  {
   "cell_type": "code",
   "execution_count": 4,
   "id": "1aa2e8e6",
   "metadata": {
    "ExecuteTime": {
     "end_time": "2021-09-07T14:50:19.723400Z",
     "start_time": "2021-09-07T14:36:40.253618Z"
    }
   },
   "outputs": [
    {
     "name": "stderr",
     "output_type": "stream",
     "text": [
      "E:\\anaconda3\\envs\\keras\\lib\\site-packages\\xgboost\\sklearn.py:1146: UserWarning: The use of label encoder in XGBClassifier is deprecated and will be removed in a future release. To remove this warning, do the following: 1) Pass option use_label_encoder=False when constructing XGBClassifier object; and 2) Encode your labels (y) as integers starting with 0, i.e. 0, 1, 2, ..., [num_class - 1].\n",
      "  warnings.warn(label_encoder_deprecation_msg, UserWarning)\n"
     ]
    },
    {
     "name": "stdout",
     "output_type": "stream",
     "text": [
      "[19:50:07] WARNING: C:/Users/Administrator/workspace/xgboost-win64_release_1.4.0/src/learner.cc:1095: Starting in XGBoost 1.3.0, the default evaluation metric used with the objective 'multi:softprob' was changed from 'merror' to 'mlogloss'. Explicitly set eval_metric if you'd like to restore the old behavior.\n"
     ]
    }
   ],
   "source": [
    "# grid search\n",
    "model = XGBClassifier()\n",
    "learning_rate = [0.0001, 0.001, 0.01, 0.1, 0.2, 0.3]\n",
    "param_grid = dict(learning_rate=learning_rate)\n",
    "kfold = StratifiedKFold(n_splits=10, shuffle=True, random_state=7)\n",
    "grid_search = GridSearchCV(model, param_grid, scoring=\"neg_log_loss\", n_jobs=-1, cv=kfold)\n",
    "grid_result = grid_search.fit(X, label_encoded_y)"
   ]
  },
  {
   "cell_type": "code",
   "execution_count": 5,
   "id": "4bd038ef",
   "metadata": {
    "ExecuteTime": {
     "end_time": "2021-09-07T14:51:00.042538Z",
     "start_time": "2021-09-07T14:51:00.030537Z"
    }
   },
   "outputs": [
    {
     "name": "stdout",
     "output_type": "stream",
     "text": [
      "BestParam: -0.001155 using {'learning_rate': 0.3}\n",
      "-2.153330 (0.000009) with: {'learning_rate': 0.0001}\n",
      "-1.827377 (0.000066) with: {'learning_rate': 0.001}\n",
      "-0.590581 (0.000296) with: {'learning_rate': 0.01}\n",
      "-0.001270 (0.001075) with: {'learning_rate': 0.1}\n",
      "-0.001167 (0.001060) with: {'learning_rate': 0.2}\n",
      "-0.001155 (0.001053) with: {'learning_rate': 0.3}\n"
     ]
    }
   ],
   "source": [
    "# summarize results\n",
    "print(\"BestParam: %f using %s\" % (grid_result.best_score_, grid_result.best_params_))\n",
    "means = grid_result.cv_results_['mean_test_score']\n",
    "stds = grid_result.cv_results_['std_test_score']\n",
    "params = grid_result.cv_results_['params']\n",
    "for mean, stdev, param in zip(means, stds, params):\n",
    "\tprint(\"%f (%f) with: %r\" % (mean, stdev, param))"
   ]
  },
  {
   "cell_type": "code",
   "execution_count": 12,
   "id": "21e05a4f",
   "metadata": {
    "ExecuteTime": {
     "end_time": "2021-09-07T14:54:49.541902Z",
     "start_time": "2021-09-07T14:54:49.421391Z"
    }
   },
   "outputs": [
    {
     "data": {
      "image/png": "[encoded data removed]",
      "text/plain": [
       "<Figure size 432x288 with 1 Axes>"
      ]
     },
     "metadata": {
      "needs_background": "light"
     },
     "output_type": "display_data"
    },
    {
     "data": {
      "text/plain": [
       "<Figure size 432x288 with 0 Axes>"
      ]
     },
     "metadata": {},
     "output_type": "display_data"
    }
   ],
   "source": [
    "# plot\n",
    "pyplot.errorbar(learning_rate, means, yerr=stds)\n",
    "pyplot.title(\"XGBoost learning_rate vs Log Loss\")\n",
    "pyplot.xlabel('learning_rate')\n",
    "pyplot.ylabel('Log Loss')\n",
    "pyplot.show()"
   ]
  },
  {
   "cell_type": "markdown",
   "id": "a5ad5f09",
   "metadata": {},
   "source": [
    "### Подбор Rate и Number of Trees (n_estimators) in XGBoost\n"
   ]
  },
  {
   "cell_type": "code",
   "execution_count": 13,
   "id": "ffc5406c",
   "metadata": {
    "ExecuteTime": {
     "end_time": "2021-09-07T17:12:51.260654Z",
     "start_time": "2021-09-07T14:58:27.259938Z"
    }
   },
   "outputs": [
    {
     "name": "stderr",
     "output_type": "stream",
     "text": [
      "E:\\anaconda3\\envs\\keras\\lib\\site-packages\\xgboost\\sklearn.py:1146: UserWarning: The use of label encoder in XGBClassifier is deprecated and will be removed in a future release. To remove this warning, do the following: 1) Pass option use_label_encoder=False when constructing XGBClassifier object; and 2) Encode your labels (y) as integers starting with 0, i.e. 0, 1, 2, ..., [num_class - 1].\n",
      "  warnings.warn(label_encoder_deprecation_msg, UserWarning)\n"
     ]
    },
    {
     "name": "stdout",
     "output_type": "stream",
     "text": [
      "[22:12:26] WARNING: C:/Users/Administrator/workspace/xgboost-win64_release_1.4.0/src/learner.cc:1095: Starting in XGBoost 1.3.0, the default evaluation metric used with the objective 'multi:softprob' was changed from 'merror' to 'mlogloss'. Explicitly set eval_metric if you'd like to restore the old behavior.\n"
     ]
    }
   ],
   "source": [
    "# grid search\n",
    "model = XGBClassifier()\n",
    "n_estimators = [100, 200, 300, 400, 500]\n",
    "learning_rate = [0.0001, 0.001, 0.01, 0.1]\n",
    "param_grid = dict(learning_rate=learning_rate, n_estimators=n_estimators)\n",
    "kfold = StratifiedKFold(n_splits=10, shuffle=True, random_state=7)\n",
    "grid_search = GridSearchCV(model, param_grid, scoring=\"neg_log_loss\", n_jobs=-1, cv=kfold)\n",
    "grid_result = grid_search.fit(X, label_encoded_y)"
   ]
  },
  {
   "cell_type": "code",
   "execution_count": 16,
   "id": "1cb6d3e2",
   "metadata": {
    "ExecuteTime": {
     "end_time": "2021-09-07T17:18:49.490183Z",
     "start_time": "2021-09-07T17:18:49.478196Z"
    }
   },
   "outputs": [
    {
     "name": "stdout",
     "output_type": "stream",
     "text": [
      "BestParam: -0.001182 using {'learning_rate': 0.1, 'n_estimators': 200}\n",
      "-2.153330 (0.000009) with: {'learning_rate': 0.0001, 'n_estimators': 100}\n",
      "-2.111313 (0.000018) with: {'learning_rate': 0.0001, 'n_estimators': 200}\n",
      "-2.071024 (0.000026) with: {'learning_rate': 0.0001, 'n_estimators': 300}\n",
      "-2.032331 (0.000035) with: {'learning_rate': 0.0001, 'n_estimators': 400}\n",
      "-1.995114 (0.000043) with: {'learning_rate': 0.0001, 'n_estimators': 500}\n",
      "-1.827377 (0.000066) with: {'learning_rate': 0.001, 'n_estimators': 100}\n",
      "-1.560993 (0.000096) with: {'learning_rate': 0.001, 'n_estimators': 200}\n",
      "-1.354499 (0.000129) with: {'learning_rate': 0.001, 'n_estimators': 300}\n",
      "-1.187332 (0.000158) with: {'learning_rate': 0.001, 'n_estimators': 400}\n",
      "-1.048158 (0.000183) with: {'learning_rate': 0.001, 'n_estimators': 500}\n",
      "-0.590581 (0.000296) with: {'learning_rate': 0.01, 'n_estimators': 100}\n",
      "-0.208812 (0.000301) with: {'learning_rate': 0.01, 'n_estimators': 200}\n",
      "-0.076537 (0.000445) with: {'learning_rate': 0.01, 'n_estimators': 300}\n",
      "-0.028675 (0.000564) with: {'learning_rate': 0.01, 'n_estimators': 400}\n",
      "-0.011175 (0.000669) with: {'learning_rate': 0.01, 'n_estimators': 500}\n",
      "-0.001272 (0.001077) with: {'learning_rate': 0.1, 'n_estimators': 100}\n",
      "-0.001182 (0.001062) with: {'learning_rate': 0.1, 'n_estimators': 200}\n",
      "-0.001182 (0.001063) with: {'learning_rate': 0.1, 'n_estimators': 300}\n",
      "-0.001183 (0.001064) with: {'learning_rate': 0.1, 'n_estimators': 400}\n",
      "-0.001183 (0.001064) with: {'learning_rate': 0.1, 'n_estimators': 500}\n"
     ]
    }
   ],
   "source": [
    "# Вывод результатов\n",
    "print(\"BestParam: %f using %s\" % (grid_result.best_score_, grid_result.best_params_))\n",
    "means = grid_result.cv_results_['mean_test_score']\n",
    "stds = grid_result.cv_results_['std_test_score']\n",
    "params = grid_result.cv_results_['params']\n",
    "for mean, stdev, param in zip(means, stds, params):\n",
    "\tprint(\"%f (%f) with: %r\" % (mean, stdev, param))"
   ]
  },
  {
   "cell_type": "code",
   "execution_count": 15,
   "id": "ad4e4e4a",
   "metadata": {
    "ExecuteTime": {
     "end_time": "2021-09-07T17:18:08.534257Z",
     "start_time": "2021-09-07T17:18:08.374336Z"
    }
   },
   "outputs": [
    {
     "data": {
      "image/png": "[encoded data removed]",
      "text/plain": [
       "<Figure size 432x288 with 1 Axes>"
      ]
     },
     "metadata": {
      "needs_background": "light"
     },
     "output_type": "display_data"
    }
   ],
   "source": [
    "# Отрисуем результат\n",
    "scores = numpy.array(means).reshape(len(learning_rate), len(n_estimators))\n",
    "for i, value in enumerate(learning_rate):\n",
    "    pyplot.plot(n_estimators, scores[i], label='learning_rate: ' + str(value))\n",
    "pyplot.legend()\n",
    "pyplot.xlabel('n_estimators')\n",
    "pyplot.ylabel('Log Loss')\n",
    "pyplot.show()"
   ]
  },
  {
   "cell_type": "code",
   "execution_count": 18,
   "id": "b8a6074d",
   "metadata": {
    "ExecuteTime": {
     "end_time": "2021-09-07T17:23:36.564525Z",
     "start_time": "2021-09-07T17:23:36.412729Z"
    }
   },
   "outputs": [
    {
     "data": {
      "image/png": "[encoded data removed]",
      "text/plain": [
       "<Figure size 432x288 with 1 Axes>"
      ]
     },
     "metadata": {
      "needs_background": "light"
     },
     "output_type": "display_data"
    }
   ],
   "source": [
    "n_estimators = [100, 200, 300, 400, 500]\n",
    "loss = [-0.001272, -0.001182, -0.001182, -0.001183, -0.001183]\n",
    "pyplot.plot(n_estimators, loss)\n",
    "pyplot.xlabel('n_estimators')\n",
    "pyplot.ylabel('Log Loss')\n",
    "pyplot.title('XGBoost learning_rate=0.1 n_estimators vs Log Loss')\n",
    "pyplot.show()"
   ]
  },
  {
   "cell_type": "code",
   "execution_count": null,
   "id": "11504842",
   "metadata": {},
   "outputs": [],
   "source": []
  }
 ],
 "metadata": {
  "kernelspec": {
   "display_name": "Python 3.9 (Tensorflow 2.5)",
   "language": "python",
   "name": "keras"
  },
  "language_info": {
   "codemirror_mode": {
    "name": "ipython",
    "version": 3
   },
   "file_extension": ".py",
   "mimetype": "text/x-python",
   "name": "python",
   "nbconvert_exporter": "python",
   "pygments_lexer": "ipython3",
   "version": "3.9.6"
  },
  "varInspector": {
   "cols": {
    "lenName": 16,
    "lenType": 16,
    "lenVar": 40
   },
   "kernels_config": {
    "python": {
     "delete_cmd_postfix": "",
     "delete_cmd_prefix": "del ",
     "library": "var_list.py",
     "varRefreshCmd": "print(var_dic_list())"
    },
    "r": {
     "delete_cmd_postfix": ") ",
     "delete_cmd_prefix": "rm(",
     "library": "var_list.r",
     "varRefreshCmd": "cat(var_dic_list()) "
    }
   },
   "types_to_exclude": [
    "module",
    "function",
    "builtin_function_or_method",
    "instance",
    "_Feature"
   ],
   "window_display": false
  }
 },
 "nbformat": 4,
 "nbformat_minor": 5
}
